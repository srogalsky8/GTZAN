{
 "cells": [
  {
   "cell_type": "code",
   "execution_count": 1,
   "metadata": {},
   "outputs": [],
   "source": [
    "import torch\n",
    "import torch.nn as nn\n",
    "import torch.nn.functional as F\n",
    "\n",
    "model_path = 'ann_best.pth'\n",
    "\n",
    "img_x_size = int(335)\n",
    "img_y_size = int(218)\n",
    "num_channels = 1\n",
    "input_size = img_x_size * img_y_size * num_channels\n",
    "dropout_p = 0.3\n",
    "\n",
    "if not torch.backends.mps.is_available():\n",
    "    device = torch.device('cpu')\n",
    "    if not torch.backends.mps.is_built():\n",
    "        print(\"MPS not available because the current PyTorch install was not \"\n",
    "              \"built with MPS enabled.\")\n",
    "    else:\n",
    "        print(\"MPS not available because the current MacOS version is not 12.3+ \"\n",
    "              \"and/or you do not have an MPS-enabled device on this machine.\")\n",
    "\n",
    "else:\n",
    "    device = torch.device(\"mps\")\n",
    "\n",
    "class Net(nn.Module):\n",
    "\n",
    "    def __init__(self):\n",
    "        super(Net, self).__init__()\n",
    "\n",
    "        fc1_in = input_size\n",
    "        fc1_out = 1000\n",
    "        self.fc1 = nn.Linear(fc1_in, fc1_out)\n",
    "        # nn.init.normal_(self.fc1.weight, mean=0, std=1/math.sqrt(fc1_in))\n",
    "        # nn.init.normal_(self.fc1.bias, mean=0, std=1)\n",
    "        # self.dropout1 = nn.Dropout(p=dropout_p)\n",
    "\n",
    "        self.bn1 = nn.BatchNorm1d(fc1_out) # Batch normalization for fc1\n",
    "        # TODO: weight initialization for batchnorm layer?\n",
    "\n",
    "        fc2_in = fc1_out\n",
    "        fc2_out = 500\n",
    "        self.fc2 = nn.Linear(fc2_in, fc2_out)\n",
    "        # nn.init.normal_(self.fc2.weight, mean=0, std=1/math.sqrt(fc2_in))\n",
    "        # nn.init.normal_(self.fc2.bias, mean=0, std=1)\n",
    "        self.dropout2 = nn.Dropout(p=dropout_p)\n",
    "\n",
    "        self.bn2 = nn.BatchNorm1d(fc2_out)   # Batch normalization for fc2\n",
    "\n",
    "        fc3_in = fc2_out\n",
    "        fc3_out = 100\n",
    "        self.fc3 = nn.Linear(fc3_in, fc3_out)  # Output layer with 10 units for 10 genres\n",
    "        # nn.init.normal_(self.fc3.weight, mean=0, std=1/math.sqrt(fc3_in))\n",
    "        # nn.init.normal_(self.fc3.bias, mean=0, std=1)\n",
    "        # self.dropout3 = nn.Dropout(p=dropout_p)\n",
    "        \n",
    "        self.bn3 = nn.BatchNorm1d(fc3_out)   # Batch normalization for fc2\n",
    "\n",
    "        fc4_in = fc3_out\n",
    "        fc4_out = 10\n",
    "        self.fc4 = nn.Linear(fc4_in, fc4_out)  # Output layer with 10 units for 10 genres\n",
    "        # nn.init.normal_(self.fc4.weight, mean=0, std=1/math.sqrt(fc4_in))\n",
    "        # nn.init.normal_(self.fc4.bias, mean=0, std=1)\n",
    "\n",
    "    def forward(self, x):\n",
    "        x = x.view(-1, input_size)\n",
    "\n",
    "        # Apply sigmoid activation at each layer\n",
    "        x = self.fc1(x)\n",
    "        x = self.bn1(x)  # Apply batch normalization to fc1\n",
    "        x = F.relu(x)\n",
    "        # x = self.dropout1(x)  # Apply dropout after the first layer\n",
    "        \n",
    "        x = self.fc2(x)\n",
    "        x = self.bn2(x)  # Apply batch normalization to fc2\n",
    "        x = F.relu(x)\n",
    "        x = self.dropout2(x)  # Apply dropout after the second layer\n",
    "        \n",
    "        x = self.fc3(x)\n",
    "        x = self.bn3(x)  # Apply batch normalization to fc3\n",
    "        x = F.relu(x)\n",
    "        # x = self.dropout3(x)  # Apply dropout after the second layer\n",
    "\n",
    "        x = F.relu(self.fc4(x))\n",
    "\n",
    "        # x = F.softmax(x, dim=1)\n",
    "\n",
    "        return x"
   ]
  },
  {
   "cell_type": "code",
   "execution_count": 2,
   "metadata": {},
   "outputs": [
    {
     "data": {
      "text/plain": [
       "73585810"
      ]
     },
     "execution_count": 2,
     "metadata": {},
     "output_type": "execute_result"
    }
   ],
   "source": [
    "net = Net()\n",
    "\n",
    "# Calculate the number of trainable parameters\n",
    "total_params = sum(p.numel() for p in net.parameters() if p.requires_grad)\n",
    "total_params"
   ]
  },
  {
   "cell_type": "code",
   "execution_count": 3,
   "metadata": {},
   "outputs": [
    {
     "name": "stderr",
     "output_type": "stream",
     "text": [
      "/Users/steven/Library/Python/3.9/lib/python/site-packages/urllib3/__init__.py:34: NotOpenSSLWarning: urllib3 v2.0 only supports OpenSSL 1.1.1+, currently the 'ssl' module is compiled with 'LibreSSL 2.8.3'. See: https://github.com/urllib3/urllib3/issues/3020\n",
      "  warnings.warn(\n"
     ]
    }
   ],
   "source": [
    "from util import load_data_from_split\n",
    "split_songs = False\n",
    "train_loader, val_loader, test_loader = load_data_from_split(resize_images=False, batch_size=10, split_songs=split_songs)"
   ]
  },
  {
   "cell_type": "code",
   "execution_count": 81,
   "metadata": {},
   "outputs": [
    {
     "name": "stdout",
     "output_type": "stream",
     "text": [
      "Epoch 1 | LR: 0.00010 -> 0.00019 | Train Loss: 2.178 | Val Loss: 1.968 | Val Acc: 32.00%\n",
      "Epoch 2 | LR: 0.00019 -> 0.00028 | Train Loss: 1.848 | Val Loss: 1.861 | Val Acc: 34.00%\n",
      "Epoch 3 | LR: 0.00028 -> 0.00037 | Train Loss: 1.592 | Val Loss: 1.808 | Val Acc: 44.00%\n",
      "Epoch 4 | LR: 0.00037 -> 0.00046 | Train Loss: 1.381 | Val Loss: 1.751 | Val Acc: 49.00%\n",
      "Epoch 5 | LR: 0.00046 -> 0.00055 | Train Loss: 1.176 | Val Loss: 1.705 | Val Acc: 49.00%\n",
      "Epoch 6 | LR: 0.00055 -> 0.00064 | Train Loss: 0.956 | Val Loss: 1.665 | Val Acc: 52.00%\n",
      "Epoch 7 | LR: 0.00064 -> 0.00073 | Train Loss: 0.723 | Val Loss: 1.637 | Val Acc: 50.00%\n",
      "Epoch 8 | LR: 0.00073 -> 0.00082 | Train Loss: 0.573 | Val Loss: 1.576 | Val Acc: 49.00%\n",
      "Epoch 9 | LR: 0.00082 -> 0.00091 | Train Loss: 0.439 | Val Loss: 1.555 | Val Acc: 50.00%\n",
      "Epoch 10 | LR: 0.00091 -> 0.00100 | Train Loss: 0.373 | Val Loss: 1.554 | Val Acc: 50.00%\n",
      "Epoch 11 | LR: 0.00100 -> 0.00091 | Train Loss: 0.310 | Val Loss: 1.540 | Val Acc: 50.00%\n",
      "Epoch 12 | LR: 0.00091 -> 0.00082 | Train Loss: 0.302 | Val Loss: 1.527 | Val Acc: 53.00%\n",
      "Epoch 13 | LR: 0.00082 -> 0.00073 | Train Loss: 0.226 | Val Loss: 1.479 | Val Acc: 52.00%\n",
      "Epoch 14 | LR: 0.00073 -> 0.00064 | Train Loss: 0.186 | Val Loss: 1.501 | Val Acc: 52.00%\n",
      "Epoch 15 | LR: 0.00064 -> 0.00055 | Train Loss: 0.180 | Val Loss: 1.525 | Val Acc: 57.00%\n",
      "Epoch 16 | LR: 0.00055 -> 0.00046 | Train Loss: 0.157 | Val Loss: 1.463 | Val Acc: 51.00%\n",
      "Epoch 17 | LR: 0.00046 -> 0.00037 | Train Loss: 0.162 | Val Loss: 1.486 | Val Acc: 52.00%\n",
      "Epoch 18 | LR: 0.00037 -> 0.00028 | Train Loss: 0.151 | Val Loss: 1.511 | Val Acc: 53.00%\n",
      "Epoch 19 | LR: 0.00028 -> 0.00019 | Train Loss: 0.122 | Val Loss: 1.479 | Val Acc: 53.00%\n",
      "Epoch 20 | LR: 0.00019 -> 0.00010 | Train Loss: 0.137 | Val Loss: 1.494 | Val Acc: 53.00%\n",
      "Training finished\n"
     ]
    }
   ],
   "source": [
    "import torch.nn as nn\n",
    "import torch.optim as optim\n",
    "from torch.optim import lr_scheduler\n",
    "from util import train_loop\n",
    "\n",
    "net = Net()\n",
    "num_epochs = 20\n",
    "criterion = nn.CrossEntropyLoss() # loss function\n",
    "\n",
    "optimizer = optim.SGD(net.parameters(), lr=5e-3, momentum=0, weight_decay=1e-5)\n",
    "\n",
    "scheduler = lr_scheduler.CyclicLR(optimizer, base_lr=1e-5, max_lr=1e-3, step_size_up=(num_epochs/2)*len(train_loader), step_size_down=(num_epochs/2)*len(train_loader), mode='triangular')\n",
    "\n",
    "training_losses, validation_losses = train_loop(\n",
    "    net=net,\n",
    "    device=device,\n",
    "    train_loader=train_loader,\n",
    "    val_loader=val_loader,\n",
    "    criterion=criterion,\n",
    "    model_path=model_path,\n",
    "    split_songs=split_songs,\n",
    "    num_epochs=num_epochs,\n",
    "    optimizer=optimizer,\n",
    "    scheduler=scheduler\n",
    ")"
   ]
  },
  {
   "cell_type": "code",
   "execution_count": 83,
   "metadata": {},
   "outputs": [
    {
     "name": "stdout",
     "output_type": "stream",
     "text": [
      "Test Accuracy | Idv: 51.00%\n"
     ]
    }
   ],
   "source": [
    "from util import test_model, test_model_aggregate\n",
    "\n",
    "net = Net()\n",
    "net.to(device)\n",
    "\n",
    "# Load the best saved model weights\n",
    "net.load_state_dict(torch.load(f\"models/{model_path}\"))\n",
    "\n",
    "test_accuracy, test_loss = test_model(net, test_loader, device, criterion)\n",
    "\n",
    "results_str = f\"Test Accuracy | Idv: {test_accuracy:.2f}%\"\n",
    "if(split_songs):\n",
    "    test_accuracy_agg = test_model_aggregate(net, test_loader, device)\n",
    "    results_str += f\", Agg: {test_accuracy_agg:.2f}%\"\n",
    "\n",
    "print(results_str)"
   ]
  },
  {
   "cell_type": "code",
   "execution_count": 84,
   "metadata": {},
   "outputs": [
    {
     "name": "stdout",
     "output_type": "stream",
     "text": [
      "[2.1776107996702194, 1.848007820546627, 1.5917977705597877, 1.380607570707798, 1.1760029457509518, 0.9559479869902134, 0.723469116166234, 0.573155352845788, 0.4388303326442838, 0.3727551707997918, 0.3104449223726988, 0.3021510051563382, 0.2257928928360343, 0.1864972621202469, 0.17957747234031557, 0.15733995707705617, 0.1623209336772561, 0.15098564508371054, 0.12175698657520115, 0.13727872404269875] [1.9678052067756653, 1.8605483531951905, 1.8079592823982238, 1.7508163094520568, 1.7045459985733031, 1.665364956855774, 1.6366252779960633, 1.575569486618042, 1.5547997593879699, 1.5540575742721559, 1.5402992129325868, 1.527490383386612, 1.4793010920286178, 1.5011501073837281, 1.5249832391738891, 1.4631983876228332, 1.4856610894203186, 1.5110902070999146, 1.4786349892616273, 1.4942681670188904]\n"
     ]
    },
    {
     "data": {
      "image/png": "[encoded data removed]",
      "text/plain": [
       "<Figure size 1000x500 with 1 Axes>"
      ]
     },
     "metadata": {},
     "output_type": "display_data"
    }
   ],
   "source": [
    "from util import plot_loss\n",
    "print(training_losses, validation_losses)\n",
    "plot_loss(training_losses, validation_losses)"
   ]
  }
 ],
 "metadata": {
  "kernelspec": {
   "display_name": "Python 3",
   "language": "python",
   "name": "python3"
  },
  "language_info": {
   "codemirror_mode": {
    "name": "ipython",
    "version": 3
   },
   "file_extension": ".py",
   "mimetype": "text/x-python",
   "name": "python",
   "nbconvert_exporter": "python",
   "pygments_lexer": "ipython3",
   "version": "3.9.6"
  },
  "orig_nbformat": 4
 },
 "nbformat": 4,
 "nbformat_minor": 2
}
