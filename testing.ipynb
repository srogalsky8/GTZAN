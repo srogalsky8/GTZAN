{
 "cells": [
  {
   "cell_type": "code",
   "execution_count": 4,
   "metadata": {},
   "outputs": [],
   "source": [
    "import pandas as pd\n",
    "import numpy as np\n",
    "from sklearn.metrics import f1_score\n",
    "\n",
    "# Path to the CSV file\n",
    "# csv_file_path = './data/features_30_sec.csv'\n",
    "csv_file_path = './data/features_3_sec.csv'\n",
    "\n",
    "# Load the CSV file into a pandas DataFrame\n",
    "df = pd.read_csv(csv_file_path)\n",
    "\n",
    "labels, unique_values = pd.factorize(df[\"label\"])\n",
    "y = np.array(labels)\n",
    "columns_to_exclude = [\"filename\", \"length\", \"label\"]\n",
    "X = df.drop(columns=columns_to_exclude)\n",
    "X = X.to_numpy()"
   ]
  },
  {
   "cell_type": "code",
   "execution_count": 5,
   "metadata": {},
   "outputs": [
    {
     "data": {
      "text/plain": [
       "(9990, 57)"
      ]
     },
     "execution_count": 5,
     "metadata": {},
     "output_type": "execute_result"
    }
   ],
   "source": [
    "from sklearn.model_selection import train_test_split\n",
    "X_tr, X_te, y_tr, y_te = train_test_split(\n",
    "    X,\n",
    "    y,\n",
    "    random_state=10, \n",
    "    test_size=0.2, \n",
    "    shuffle=True\n",
    ")\n",
    "np.shape(X)"
   ]
  },
  {
   "cell_type": "code",
   "execution_count": 41,
   "metadata": {},
   "outputs": [
    {
     "name": "stdout",
     "output_type": "stream",
     "text": [
      "[[0.25832865 0.25832865 0.27689747 0.27253836 0.28424416 0.27806402\n",
      "  0.28771651 0.30122999 0.30161326]\n",
      " [0.28711491 0.28711491 0.29035182 0.30718813 0.30897587 0.30819699\n",
      "  0.31150259 0.31509948 0.31639468]\n",
      " [0.26527937 0.26527937 0.27049472 0.27068322 0.2725737  0.27693049\n",
      "  0.27748912 0.28051229 0.27476306]\n",
      " [0.26551487 0.26551487 0.27085829 0.27021867 0.27136074 0.2757249\n",
      "  0.28062028 0.27961643 0.27603489]]\n"
     ]
    }
   ],
   "source": [
    "from sklearn.neighbors import NearestNeighbors\n",
    "from statistics import mode\n",
    "\n",
    "def do_knn(X_tr, y_tr, X_te, y_te, k, metric):\n",
    "    # regular knn for comparison\n",
    "    y_pred = np.zeros((k, len(y_te)))\n",
    "    nbrs = NearestNeighbors(n_neighbors=k, metric=metric, n_jobs=-1).fit(X_tr)\n",
    "    distances, neighbors_list = nbrs.kneighbors(X_te)\n",
    "    for (index, neighbors) in enumerate(neighbors_list):\n",
    "        for j in range(k):\n",
    "            predicted = mode(y_tr[neighbors[0:j+1]])\n",
    "            y_pred[j, index] = predicted\n",
    "                \n",
    "    return y_pred\n",
    "\n",
    "# KNN grid search\n",
    "metrics = [\"euclidean\", \"cityblock\", \"cosine\", \"correlation\"]\n",
    "f1_scores = np.zeros((4, 9))\n",
    "for (metric_idx, j) in enumerate(metrics):\n",
    "    y_pred = do_knn(X_tr, y_tr, X_te, y_te, 9, metric=j)\n",
    "    for (k_idx, pred) in enumerate(y_pred):\n",
    "        f1_scores[metric_idx, k_idx] = f1_score(y_te, pred, average = 'weighted')\n",
    "print(f1_scores)"
   ]
  },
  {
   "cell_type": "code",
   "execution_count": 6,
   "metadata": {},
   "outputs": [
    {
     "name": "stdout",
     "output_type": "stream",
     "text": [
      "{'poly': [], 'rbf': [], 'sigmoid': []}\n",
      "validation for linear\n",
      "C=0.03125\n"
     ]
    },
    {
     "name": "stderr",
     "output_type": "stream",
     "text": [
      "/Users/steven/Library/Python/3.9/lib/python/site-packages/sklearn/svm/_base.py:1244: ConvergenceWarning: Liblinear failed to converge, increase the number of iterations.\n",
      "  warnings.warn(\n"
     ]
    },
    {
     "name": "stdout",
     "output_type": "stream",
     "text": [
      "C=0.0625\n"
     ]
    },
    {
     "name": "stderr",
     "output_type": "stream",
     "text": [
      "/Users/steven/Library/Python/3.9/lib/python/site-packages/sklearn/svm/_base.py:1244: ConvergenceWarning: Liblinear failed to converge, increase the number of iterations.\n",
      "  warnings.warn(\n"
     ]
    },
    {
     "name": "stdout",
     "output_type": "stream",
     "text": [
      "C=0.125\n"
     ]
    },
    {
     "name": "stderr",
     "output_type": "stream",
     "text": [
      "/Users/steven/Library/Python/3.9/lib/python/site-packages/sklearn/svm/_base.py:1244: ConvergenceWarning: Liblinear failed to converge, increase the number of iterations.\n",
      "  warnings.warn(\n"
     ]
    },
    {
     "name": "stdout",
     "output_type": "stream",
     "text": [
      "C=0.25\n"
     ]
    },
    {
     "name": "stderr",
     "output_type": "stream",
     "text": [
      "/Users/steven/Library/Python/3.9/lib/python/site-packages/sklearn/svm/_base.py:1244: ConvergenceWarning: Liblinear failed to converge, increase the number of iterations.\n",
      "  warnings.warn(\n"
     ]
    },
    {
     "name": "stdout",
     "output_type": "stream",
     "text": [
      "C=0.5\n"
     ]
    },
    {
     "name": "stderr",
     "output_type": "stream",
     "text": [
      "/Users/steven/Library/Python/3.9/lib/python/site-packages/sklearn/svm/_base.py:1244: ConvergenceWarning: Liblinear failed to converge, increase the number of iterations.\n",
      "  warnings.warn(\n"
     ]
    },
    {
     "name": "stdout",
     "output_type": "stream",
     "text": [
      "C=1.0\n"
     ]
    },
    {
     "name": "stderr",
     "output_type": "stream",
     "text": [
      "/Users/steven/Library/Python/3.9/lib/python/site-packages/sklearn/svm/_base.py:1244: ConvergenceWarning: Liblinear failed to converge, increase the number of iterations.\n",
      "  warnings.warn(\n"
     ]
    },
    {
     "name": "stdout",
     "output_type": "stream",
     "text": [
      "C=2.0\n"
     ]
    },
    {
     "name": "stderr",
     "output_type": "stream",
     "text": [
      "/Users/steven/Library/Python/3.9/lib/python/site-packages/sklearn/svm/_base.py:1244: ConvergenceWarning: Liblinear failed to converge, increase the number of iterations.\n",
      "  warnings.warn(\n"
     ]
    },
    {
     "name": "stdout",
     "output_type": "stream",
     "text": [
      "C=4.0\n"
     ]
    },
    {
     "name": "stderr",
     "output_type": "stream",
     "text": [
      "/Users/steven/Library/Python/3.9/lib/python/site-packages/sklearn/svm/_base.py:1244: ConvergenceWarning: Liblinear failed to converge, increase the number of iterations.\n",
      "  warnings.warn(\n"
     ]
    },
    {
     "name": "stdout",
     "output_type": "stream",
     "text": [
      "C=8.0\n"
     ]
    },
    {
     "name": "stderr",
     "output_type": "stream",
     "text": [
      "/Users/steven/Library/Python/3.9/lib/python/site-packages/sklearn/svm/_base.py:1244: ConvergenceWarning: Liblinear failed to converge, increase the number of iterations.\n",
      "  warnings.warn(\n"
     ]
    },
    {
     "name": "stdout",
     "output_type": "stream",
     "text": [
      "C=16.0\n",
      "[0.16909785216988718, 0.16484832970999275, 0.1488683005430971, 0.09959933573786914, 0.2139331898211335, 0.11450931204769171, 0.1735159366563997, 0.1504620910561721, 0.12008064293173254, 0.11670651861300392]\n"
     ]
    },
    {
     "name": "stderr",
     "output_type": "stream",
     "text": [
      "/Users/steven/Library/Python/3.9/lib/python/site-packages/sklearn/svm/_base.py:1244: ConvergenceWarning: Liblinear failed to converge, increase the number of iterations.\n",
      "  warnings.warn(\n"
     ]
    }
   ],
   "source": [
    "\n",
    "from sklearn.svm import SVC\n",
    "from sklearn.svm import LinearSVC\n",
    "\n",
    "C = [np.float_power(2,i) for i in range(-5,5)]\n",
    "kernels = ['poly', 'rbf', 'sigmoid'] \n",
    "kernel_score_dict = {\"poly\": [], \"rbf\": [], \"sigmoid\": []}\n",
    "\n",
    "for kern in kernels:\n",
    "    print(f'validation for kernel {kern}')\n",
    "    for reg in C: \n",
    "        print(f'C={reg}')\n",
    "        clf = SVC(C = reg, kernel = kern, max_iter = 1000).fit(X_tr, y_tr)\n",
    "        preds = clf.predict(X_te)\n",
    "        score = f1_score(y_te, preds, average = 'weighted') \n",
    "        kernel_score_dict[kern].append(score)\n",
    "\n",
    "print(kernel_score_dict)\n",
    "\n",
    "## SVM LINEAR\n",
    "\n",
    "svc_scores = []\n",
    "print(f'validation for linear')\n",
    "for rg in C: \n",
    "    print(f'C={rg}')\n",
    "    clf = LinearSVC(C = rg, max_iter=1000).fit(X_tr, y_tr)\n",
    "    preds = clf.predict(X_te)\n",
    "    score = f1_score(y_te, preds, average = \"weighted\")\n",
    "    svc_scores.append(score)\n",
    "\n",
    "print(svc_scores)"
   ]
  },
  {
   "cell_type": "code",
   "execution_count": 7,
   "metadata": {},
   "outputs": [
    {
     "name": "stdout",
     "output_type": "stream",
     "text": [
      "T = 100\n",
      "T = 200\n",
      "T = 300\n",
      "T = 400\n",
      "T = 500\n",
      "T = 600\n",
      "T = 700\n",
      "T = 800\n",
      "T = 900\n",
      "[0.8754799868015698, 0.8870865308831211, 0.8821555312165804, 0.8858112876110087, 0.8818824369379256, 0.8822791062794109, 0.8878741994453422, 0.8849957583650253, 0.8880210415803891]\n",
      "[0.8537496300430408, 0.862370301590455, 0.861995319632887, 0.867951645868158, 0.8585754965917217, 0.8667703462539036, 0.8661935633088172, 0.8659254819375487, 0.8634885387570647]\n"
     ]
    }
   ],
   "source": [
    "from sklearn.ensemble import RandomForestClassifier\n",
    "from sklearn.ensemble import BaggingClassifier\n",
    "\n",
    "# RF test\n",
    "Ts = range(100, 901, 100)\n",
    "rf_scores = []\n",
    "bag_scores = []\n",
    "for T in Ts:\n",
    "    print(f\"T = {T}\")\n",
    "    best_rf = RandomForestClassifier(n_estimators = T, n_jobs = -1).fit(X_tr, y_tr) \n",
    "    best_rf_preds = best_rf.predict(X_te)\n",
    "    rf_score = f1_score(y_te, best_rf_preds, average = 'weighted')\n",
    "    rf_scores.append(rf_score)\n",
    "\n",
    "    bag = BaggingClassifier(n_estimators = T, n_jobs = -1).fit(X_tr, y_tr) \n",
    "    bag_preds = bag.predict(X_te)\n",
    "    bag_score = f1_score(y_te, bag_preds, average = 'weighted')\n",
    "    bag_scores.append(bag_score)\n",
    "\n",
    "print(rf_scores)\n",
    "print(bag_scores)"
   ]
  },
  {
   "cell_type": "code",
   "execution_count": 8,
   "metadata": {},
   "outputs": [
    {
     "name": "stdout",
     "output_type": "stream",
     "text": [
      "max_depth=10\n",
      "max_depth=11\n",
      "max_depth=12\n",
      "max_depth=13\n",
      "max_depth=14\n",
      "[0.8685885236088535, 0.8789342196136323, 0.8836291141276624, 0.8939792083821787, 0.8862795171236887]\n"
     ]
    }
   ],
   "source": [
    "from sklearn.ensemble import AdaBoostClassifier\n",
    "from sklearn.tree import DecisionTreeClassifier\n",
    "T = 200\n",
    "adaboost_stats = []\n",
    "for i in list(range(10,15)):\n",
    "    print(f'max_depth={i}')\n",
    "    tree = DecisionTreeClassifier(max_depth=i)\n",
    "    a_clf = AdaBoostClassifier(\n",
    "        tree, n_estimators=T, learning_rate=1, random_state=10\n",
    "    )\n",
    "    a_clf.fit(X_tr, y_tr)\n",
    "    preds = a_clf.predict(X_te)\n",
    "    score = f1_score(y_te, preds, average = 'weighted')\n",
    "    adaboost_stats.append(score)\n",
    "print(adaboost_stats) # optimal max_depth = 13 on 3 sec"
   ]
  },
  {
   "cell_type": "code",
   "execution_count": 11,
   "metadata": {},
   "outputs": [
    {
     "name": "stdout",
     "output_type": "stream",
     "text": [
      "0.8900480050852958\n",
      "0.8862316085701015\n"
     ]
    }
   ],
   "source": [
    "from sklearn.ensemble import GradientBoostingClassifier, HistGradientBoostingClassifier\n",
    "from sklearn.multiclass import OneVsOneClassifier\n",
    "\n",
    "gb_clf = HistGradientBoostingClassifier(learning_rate=1, random_state=10)\n",
    "ovo_clf = OneVsOneClassifier(gb_clf, n_jobs=-1)\n",
    "ovo_clf.fit(X_tr, y_tr)\n",
    "hist_grad_preds = ovo_clf.predict(X_te) \n",
    "hist_grad_score = f1_score(y_te, hist_grad_preds, average = \"weighted\")\n",
    "print(hist_grad_score) # 0.8900480050852958 - 3 sec\n",
    "\n",
    "gb_clf = GradientBoostingClassifier(n_estimators=200, random_state=10)\n",
    "ovo_clf = OneVsOneClassifier(gb_clf, n_jobs=-1)\n",
    "ovo_clf.fit(X_tr, y_tr)\n",
    "grad_preds = ovo_clf.predict(X_te) \n",
    "grad_score = f1_score(y_te, grad_preds, average = \"weighted\")\n",
    "print(grad_score) # 0.8775735978500271 - 3 sec"
   ]
  },
  {
   "cell_type": "code",
   "execution_count": null,
   "metadata": {},
   "outputs": [],
   "source": []
  }
 ],
 "metadata": {
  "kernelspec": {
   "display_name": "Python 3",
   "language": "python",
   "name": "python3"
  },
  "language_info": {
   "codemirror_mode": {
    "name": "ipython",
    "version": 3
   },
   "file_extension": ".py",
   "mimetype": "text/x-python",
   "name": "python",
   "nbconvert_exporter": "python",
   "pygments_lexer": "ipython3",
   "version": "3.9.6"
  },
  "orig_nbformat": 4
 },
 "nbformat": 4,
 "nbformat_minor": 2
}
